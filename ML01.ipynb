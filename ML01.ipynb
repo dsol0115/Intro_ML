{
 "cells": [
  {
   "cell_type": "markdown",
   "metadata": {},
   "source": [
    "# 머신러닝 이론 입문 "
   ]
  },
  {
   "cell_type": "markdown",
   "metadata": {},
   "source": [
    "1. 데이터과학과 머신러닝\n",
    "\n",
    ": 과거의 데이터를 토대로 미래를 예측하는 판단규칙을 세우는 것."
   ]
  },
  {
   "cell_type": "markdown",
   "metadata": {},
   "source": [
    "- 머신러닝 알고리즘 분류"
   ]
  },
  {
   "cell_type": "markdown",
   "metadata": {},
   "source": [
    "1. 분류 : 클래스 판정을 산출하는 알고리즘\n",
    "\n",
    "    여러 클래스로 분류된 기존의 데이터를 토대로 새로 수집된 데이터가 어느 클래스에 속하는가 예측하는 규칙을 만듦. \n",
    "    KNN(K nearest neighbor), 서포트 벡터 머신(Support Vector Machine), 의사결정 트리(Decision Tree)모델이 대표적."
   ]
  },
  {
   "cell_type": "markdown",
   "metadata": {},
   "source": [
    "2. 회귀분석: 수치를 예측하는 알고리즘\n",
    "\n",
    "    기존에 수집된 데이터가 어떤 함수를 가질 것이라 가정하고 그 함수를 예측해 새로운 데이터 값을 함수에 대입해서 결과를 예측합니다."
   ]
  },
  {
   "cell_type": "markdown",
   "metadata": {},
   "source": [
    "> 분류와 회귀는 둘다 지도학습 모델이기에 레이블이 있는 입력 데이터로 학습한다. 하지만 분류는 결과 값이 레이블 중에 하나이고 회귀는 결정된 함수식으로 계산한 임의의 값이다. 만약 문제의 결과가 사전에 몇 가지 경우로 고정되지 않고, 어떠한 결과값도 가능한 경우에는 일반적으로 선형 회귀 모델을 이용한다. 예를들어 주가 분석처럼 연속적인 범위 내의 값을 예측하는 문제를 말한다."
   ]
  },
  {
   "cell_type": "markdown",
   "metadata": {},
   "source": [
    "> 회귀모델도 분류처럼 몇 가지 범주형의 결과값을 예측하는 경우에도 적용할 수 있다.-> 로지스틱 회귀(이진분류)"
   ]
  },
  {
   "cell_type": "markdown",
   "metadata": {},
   "source": [
    "3. 클러스터링: 비지도학습으로 그룹화하는 알고리즘\n",
    "    \n",
    "    데이터 간의 어떤 유사성을 바탕으로 클러스터가 형성됐는지 발견하는 것.\n",
    "\n",
    "> 전화기에서 통화음질 개선위해 사람 목소리와 노이즈를 구별할 때, 의학 분야에서 임상실험시에 질병군과 환자군 구별할 때, 마케팅에서 고객 세분화할 때"
   ]
  },
  {
   "cell_type": "markdown",
   "metadata": {},
   "source": [
    "군집 알고리즘에는 분할기반의 군집, 계층적 군집이 있다.\n",
    "> 분할 기반 군집 모델: k-means, k-medoids, DBSCAN 이 있다.\n",
    "\n",
    "> 계층적 군집 모델: 병합적 군집, 분할적 군집으로 구분된다."
   ]
  },
  {
   "cell_type": "markdown",
   "metadata": {},
   "source": [
    "* 특징 벡터: 분석 대상의 성질을 나타내는 데이터"
   ]
  },
  {
   "cell_type": "markdown",
   "metadata": {},
   "source": [
    "4. 그 밖\n",
    "\n",
    "    * 유사성 매칭: 새로운 데이터가 기존의 어떤 데이터와 유사한지 판정\n",
    "    * 동시발생 분석: 연관성 분석이라고도 함\n",
    "    * 링크 예측: 데이터 사이에 잠재적으로 존재하는 '연결고리'를 예측"
   ]
  }
 ],
 "metadata": {
  "kernelspec": {
   "display_name": "Python 3",
   "language": "python",
   "name": "python3"
  },
  "language_info": {
   "codemirror_mode": {
    "name": "ipython",
    "version": 3
   },
   "file_extension": ".py",
   "mimetype": "text/x-python",
   "name": "python",
   "nbconvert_exporter": "python",
   "pygments_lexer": "ipython3",
   "version": "3.7.3"
  }
 },
 "nbformat": 4,
 "nbformat_minor": 2
}
