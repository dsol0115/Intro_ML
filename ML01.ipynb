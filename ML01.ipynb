{
 "cells": [
  {
   "cell_type": "markdown",
   "metadata": {},
   "source": [
    "# 머신러닝 이론 입문 "
   ]
  },
  {
   "cell_type": "markdown",
   "metadata": {},
   "source": [
    "1. 데이터과학과 머신러닝\n",
    "\n",
    ": 과거의 데이터를 토대로 미래를 예측하는 판단규칙을 세우는 것."
   ]
  },
  {
   "cell_type": "markdown",
   "metadata": {},
   "source": [
    "- 머신러닝 알고리즘 분류"
   ]
  },
  {
   "cell_type": "markdown",
   "metadata": {},
   "source": [
    "1. 분류 : 클래스 판정을 산출하는 알고리즘\n",
    "\n",
    "    여러 클래스로 분류된 기존의 데이터를 토대로 새로 수집된 데이터가 어느 클래스에 속하는가 예측하는 규칙을 만듦. \n",
    "    결정트리, 퍼셉트론, 로지스틱 회귀가 있음. "
   ]
  },
  {
   "cell_type": "markdown",
   "metadata": {},
   "source": [
    "2. 회귀분석: 수치를 예측하는 알고리즘\n",
    "\n",
    "    기존에 수집된 데이터가 어떤 함수를 가질 것이라 가정하고 그 함수를 예측해 새로운 데이터 값을 함수에 대입해서 결과를 예측합니다."
   ]
  },
  {
   "cell_type": "markdown",
   "metadata": {},
   "source": [
    "3. 클러스터링: 비지도학습으로 그룹화하는 알고리즘\n",
    "    \n",
    "    데이터 간의 어떤 유사성을 바탕으로 클러스터가 형성됐는지 발견하는 것."
   ]
  },
  {
   "cell_type": "markdown",
   "metadata": {},
   "source": [
    "* 특징 벡터: 분석 대상의 성질을 나타내는 데이터"
   ]
  },
  {
   "cell_type": "markdown",
   "metadata": {},
   "source": [
    "4. 그 밖\n",
    "\n",
    "    * 유사성 매칭: 새로운 데이터가 기존의 어떤 데이터와 유사한지 판정\n",
    "    * 동시발생 분석: 연관성 분석이라고도 함\n",
    "    * 링크 예측: 데이터 사이에 잠재적으로 존재하는 '연결고리'를 예측"
   ]
  }
 ],
 "metadata": {
  "kernelspec": {
   "display_name": "Python 3",
   "language": "python",
   "name": "python3"
  },
  "language_info": {
   "codemirror_mode": {
    "name": "ipython",
    "version": 3
   },
   "file_extension": ".py",
   "mimetype": "text/x-python",
   "name": "python",
   "nbconvert_exporter": "python",
   "pygments_lexer": "ipython3",
   "version": "3.7.3"
  }
 },
 "nbformat": 4,
 "nbformat_minor": 2
}
