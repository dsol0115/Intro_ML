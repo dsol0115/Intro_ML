{
 "cells": [
  {
   "cell_type": "markdown",
   "metadata": {},
   "source": [
    "# 최소제곱법\n",
    "\n",
    "최소제곱법은 회귀분석의 기초로 주어진 데이터가 어떤 함수로부터 생성됐는가를 알아보는 '함수관계'를 추측하는 것이 목표."
   ]
  },
  {
   "cell_type": "markdown",
   "metadata": {},
   "source": [
    "1. 다항식 근사와 최소제곱법에 의한 추정\n",
    "\n",
    "> * 트레이닝 셋(Training Set): 소스로 사용하는 데이터\n",
    "> * 설명변수와 목적변수 : 통계학에서는 설명변수로 목적변수가 설명되기 때문에 (x-설명, y-목적)\n",
    "> * 특징변수 : 머신러닝에서는 x가 분석 대상의 성질을 특징 짓는 변수라고 여겨 특징변수라 함. 여러개의 특징 변수를 합쳐 벡터값을 만들어서 다루는 것이 일반적인 형태. 이를 '특징 벡터'라고 함."
   ]
  },
  {
   "cell_type": "markdown",
   "metadata": {},
   "source": [
    "계산되는 목적변수값과 실제 관측된 목적변수값을 비교함. 차분을 제곱하고 다 더해서 오차값을 냄. \n",
    "\n",
    "\\begin{align}\n",
    "\\{f(x1)-t1\\}^2 + \\{f(x2)-t2\\}^2 + ... + \\{f(x10)-t10\\}^2\\\\\n",
    "\\end{align}"
   ]
  },
  {
   "cell_type": "markdown",
   "metadata": {},
   "source": [
    "이 오차값이 크면 실제 관측 값과 멀어지며, 가능한 작아질수있도록 하는 것이 목표"
   ]
  },
  {
   "cell_type": "code",
   "execution_count": null,
   "metadata": {},
   "outputs": [],
   "source": []
  }
 ],
 "metadata": {
  "kernelspec": {
   "display_name": "Python 3",
   "language": "python",
   "name": "python3"
  },
  "language_info": {
   "codemirror_mode": {
    "name": "ipython",
    "version": 3
   },
   "file_extension": ".py",
   "mimetype": "text/x-python",
   "name": "python",
   "nbconvert_exporter": "python",
   "pygments_lexer": "ipython3",
   "version": "3.7.3"
  }
 },
 "nbformat": 4,
 "nbformat_minor": 2
}
